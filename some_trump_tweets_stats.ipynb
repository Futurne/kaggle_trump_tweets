{
 "cells": [
  {
   "cell_type": "markdown",
   "metadata": {
    "_cell_guid": "b1076dfc-b9ad-4769-8c92-a6c4dae69d19",
    "_uuid": "8f2839f25d086af736a60e9eeb907d3b93b6e0e5"
   },
   "source": [
    "Hello everyone, today we're going to analyze Trump's tweets ! My main questions are:\n",
    "\n",
    "- What are his most popular tweets ?\n",
    "- How popular its tweets became over the years ?\n",
    "- Is is possible to predict a tweet's number of retweets ?\n",
    "- What is the distribution of the number of retweets ?\n",
    "- What are the most common words used in his tweets ?\n",
    "\n",
    "First, you have to know, I decided that a popular tweet was a tweet with a lot of retweets. It may be wrong or approximative, but this is how I will analyze the data for the rest of the kernel. Let's go deep in the dataset !"
   ]
  },
  {
   "cell_type": "code",
   "execution_count": null,
   "metadata": {
    "_cell_guid": "79c7e3d0-c299-4dcb-8224-4455121ee9b0",
    "_uuid": "d629ff2d2480ee46fbb7e2d37f6b5fab8052498a"
   },
   "outputs": [],
   "source": [
    "import pandas as pd\n",
    "import numpy as np\n",
    "import matplotlib.pyplot as plt\n",
    "import seaborn as sn\n",
    "import datetime\n",
    "\n",
    "%pylab inline\n",
    "pylab.rcParams['figure.figsize'] = (10, 7)\n",
    "\n",
    "df = pd.read_csv(\"../input/trump-tweets/trumptweets.csv\", sep=\",\", engine=\"python\")\n",
    "df['date'] = pd.to_datetime(df['date']) # So pandas understands it's a date\n",
    "\n",
    "number_of_days = (df[\"date\"].max() - df[\"date\"].min()).days\n",
    "print(\"Amount of tweets: {}\".format(len(df)))\n",
    "print(\"Published in {} days, which makes {:.2f} tweets per day\".format(number_of_days, len(df)/number_of_days))\n",
    "df.head()"
   ]
  },
  {
   "cell_type": "markdown",
   "metadata": {},
   "source": [
    "It seems like there are a lot of NaN values here, let's check."
   ]
  },
  {
   "cell_type": "code",
   "execution_count": null,
   "metadata": {},
   "outputs": [],
   "source": [
    "print(\"Number of NaN values\")\n",
    "df.isna().sum()"
   ]
  },
  {
   "cell_type": "markdown",
   "metadata": {},
   "source": [
    "We can see that geo, hashtags and mentions are filled with a lot of NaN values (especially the geo column, that have 100% of NaN values !). So let's get rid of those columns, among with the link column, that I know I won't use."
   ]
  },
  {
   "cell_type": "code",
   "execution_count": null,
   "metadata": {},
   "outputs": [],
   "source": [
    "df = df.drop([\"geo\", \"hashtags\", \"mentions\", \"link\"], axis=1) # Not so much to deal with"
   ]
  },
  {
   "cell_type": "markdown",
   "metadata": {},
   "source": [
    "Let's see top 10 Trump's best tweets."
   ]
  },
  {
   "cell_type": "code",
   "execution_count": null,
   "metadata": {},
   "outputs": [],
   "source": [
    "max_retweets = df.sort_values(\"retweets\", ascending=False)\n",
    "content, date, retweets, favorites = 1, 2, 3, 4\n",
    "place = 1\n",
    "\n",
    "for tweet in max_retweets.values[:10]:\n",
    "    print(\"\\033[94mBest retweet {}:\\033[0m \\n{}\\n{}\\t\\033[93m{} retweets\\t\\t{} favorites\\033[0m\\n\".format(\n",
    "        place, tweet[content], tweet[date], tweet[retweets], tweet[favorites]))\n",
    "    place += 1"
   ]
  },
  {
   "cell_type": "markdown",
   "metadata": {},
   "source": [
    "Here we can see that we're going to have a problem with pictures, so when we'll analyze the content of each tweets, it is going to be a parasite. We can also see that even in the top 10 tweets, the number of retweets are very disparate. Moreover, some tweets are really olds ! And it looks like his best tweets are the old ones also.\n",
    "\n",
    "Anyway, let's look at the tweets' distribution among the years. Let's keep in mind that my dataset has been taken in January 2020."
   ]
  },
  {
   "cell_type": "code",
   "execution_count": null,
   "metadata": {},
   "outputs": [],
   "source": [
    "plt.subplot(2, 2, 1)\n",
    "plt.title(\"Number of Tweets per Year\")\n",
    "df[\"date\"].groupby(df[\"date\"].dt.year).count().plot(kind=\"bar\")\n",
    "plt.xlabel(\"year\")\n",
    "\n",
    "plt.subplot(2, 2, 2)\n",
    "plt.title(\"Number of Tweets per Day\")\n",
    "tweet_cpt = df[\"date\"].groupby(df[\"date\"].dt.day_name()).count()\n",
    "tweet_cpt.reindex([\"Monday\", \"Tuesday\", \"Wednesday\", \"Thursday\", \"Friday\", \"Saturday\", \"Sunday\"]).plot(kind=\"bar\")\n",
    "plt.xlabel(\"year\")\n",
    "plt.show()"
   ]
  },
  {
   "cell_type": "markdown",
   "metadata": {},
   "source": [
    "In his best shape, Mister Trump posted ~8000 tweets ! That makes more than 22 tweets a day !\n",
    "\n",
    "Ok so after some reflexion, I decided to analyze his tweets only since a particular date. Since his campaign for running president was in 2015, I thought about comparing his stats before and after 2015. I also want to see the stats since 2013 (when he really started to post a lot of tweets), and since 2017, because I want to look at the fresh data. When looking at the histogram, retweets' distribution are really not doing us a favour. So I use a logarithmic scale to have a better look at the distribution."
   ]
  },
  {
   "cell_type": "code",
   "execution_count": null,
   "metadata": {},
   "outputs": [],
   "source": [
    "after_campaign = df[df[\"date\"] >= np.datetime64(\"2015-01-01\")]\n",
    "before_campaign = df[df[\"date\"] < np.datetime64(\"2015-01-01\")]\n",
    "after_2013 = df[df[\"date\"] >= np.datetime64(\"2013-01-01\")]\n",
    "past_years = df[df[\"date\"] >= np.datetime64(\"2017-01-01\")]"
   ]
  },
  {
   "cell_type": "code",
   "execution_count": null,
   "metadata": {},
   "outputs": [],
   "source": [
    "X1 = np.log(after_campaign[\"retweets\"]+1) # +1 to ensure values != 0\n",
    "X2 = np.log(before_campaign[\"retweets\"]+1)\n",
    "plt.hist(X1, bins=20, alpha=0.5, label=\"After 2015\")\n",
    "plt.hist(X2, bins=20, alpha=0.5, label=\"Before 2015\")\n",
    "\n",
    "plt.title(\"Retweets Histogram\")\n",
    "plt.xlabel(\"# of Retweets (logarithmic scale)\")\n",
    "plt.ylabel(\"# of Rows\")\n",
    "plt.legend(loc='upper left')\n",
    "plt.show()"
   ]
  },
  {
   "cell_type": "code",
   "execution_count": null,
   "metadata": {},
   "outputs": [],
   "source": [
    "after_2013[\"retweets\"].describe()"
   ]
  },
  {
   "cell_type": "code",
   "execution_count": null,
   "metadata": {},
   "outputs": [],
   "source": [
    "after_campaign[\"retweets\"].describe() # 2015 and +"
   ]
  },
  {
   "cell_type": "code",
   "execution_count": null,
   "metadata": {},
   "outputs": [],
   "source": [
    "past_years[\"retweets\"].describe() # 2017 and +"
   ]
  },
  {
   "cell_type": "markdown",
   "metadata": {},
   "source": [
    "Okay ! So as expected, standard deviation is huge. And when looking at the median number of retweets, we can see the number has grown a lot along the years. It not surprising since he became president and more and more controversial, but still. So, to decide which part of the data we're going to analyze, I thought about plotting the median number of retweets, years by years. Indeed, I feel like since his position has changed over the years, the \"retweeting potential\" has also changed. If we want to predict the number of retweets, we'll have to select the time where tweets have the same \"retweeting potential\"."
   ]
  },
  {
   "cell_type": "code",
   "execution_count": null,
   "metadata": {},
   "outputs": [],
   "source": [
    "df[\"retweets\"].groupby(df[\"date\"].dt.year).median().plot()\n",
    "plt.title(\"Median Number of Retweets\")\n",
    "plt.xlabel(\"year\")\n",
    "plt.plot()"
   ]
  },
  {
   "cell_type": "markdown",
   "metadata": {},
   "source": [
    "So, it seems that after 2017, tweets can unified under the same \"potential\" (I honestly don't know what I am doing right now). I will now use the \"past_years\" dataframe. Let's have a look at how much there is deviation between the dataset."
   ]
  },
  {
   "cell_type": "code",
   "execution_count": null,
   "metadata": {},
   "outputs": [],
   "source": [
    "plt.plot(range(0, len(past_years[\"retweets\"])), sorted(np.log(past_years[\"retweets\"])))\n",
    "plt.title(\"Sorted # of Retweets\")\n",
    "plt.ylabel(\"# of Retweets (logarithmic scale)\")\n",
    "frame = plt.gca()\n",
    "frame.axes.get_xaxis().set_visible(False)\n",
    "plt.show()"
   ]
  },
  {
   "cell_type": "markdown",
   "metadata": {},
   "source": [
    "Ok so, we have here a regression objective, to make a prediction, I use a CountVectorizer that select words, and transforms the content of a tweet into a matrix saying if each selected words appears."
   ]
  },
  {
   "cell_type": "code",
   "execution_count": null,
   "metadata": {},
   "outputs": [],
   "source": [
    "from sklearn.feature_extraction.text import CountVectorizer\n",
    "from sklearn.linear_model import LinearRegression\n",
    "\n",
    "train = past_years.sample(frac=0.8,random_state=200)\n",
    "test = past_years.drop(train.index)\n",
    "y_train = train[\"retweets\"]\n",
    "y_test = test[\"retweets\"]"
   ]
  },
  {
   "cell_type": "code",
   "execution_count": null,
   "metadata": {},
   "outputs": [],
   "source": [
    "def draw_predicted(model, X_test, y_test):\n",
    "    \"\"\"\n",
    "    Draw the model's prediction, and superpose it with the\n",
    "    expected values.\n",
    "    \"\"\"\n",
    "    predicts = model.predict(X_test)\n",
    "    df = pd.DataFrame({\"predicted\":predicts, \"actual\":y_test})\n",
    "    df = df.sort_values(\"actual\")\n",
    "    plt.plot(range(0, len(df)), df[\"actual\"], label=\"Actual\", color='r', ls='dotted')\n",
    "    plt.plot(range(0, len(df)), df[\"predicted\"], label=\"Predicted\", color='b', ls='dotted', alpha=0.3)\n",
    "    plt.title(\"Model evaluation\")\n",
    "    plt.ylabel(\"# of Retweets\")\n",
    "    plt.legend(loc='upper left')\n",
    "    frame = plt.gca()\n",
    "    frame.axes.get_xaxis().set_visible(False)\n",
    "    plt.show()"
   ]
  },
  {
   "cell_type": "code",
   "execution_count": null,
   "metadata": {},
   "outputs": [],
   "source": [
    "vect = CountVectorizer(min_df=5, stop_words=\"english\")\n",
    "X_train = vect.fit_transform(train[\"content\"])\n",
    "X_test = vect.transform(test[\"content\"])\n",
    "\n",
    "model = LinearRegression()\n",
    "model.fit(X_train, y_train)\n",
    "print(\"Score: {:.2f}\".format(model.score(X_test, y_test)))\n",
    "draw_predicted(model, X_test, y_test)"
   ]
  },
  {
   "cell_type": "markdown",
   "metadata": {},
   "source": [
    "Predictions are not really good (and I'm not gonna lie, it's not going to stop). I fear that the fact that some tweets are so special, with too much retweets, or not enought, the model has real issues learning. For the rest of the kernel, we're going to keep only the tweets that have a logarithmic value between 8 and 11 (we need to keep some deviation so there is something to predict).\n",
    "\n",
    "For the rest of the predictions, we're going to use LinearRegression, DecisionTreeRegressor and RandomForestRegressor."
   ]
  },
  {
   "cell_type": "code",
   "execution_count": null,
   "metadata": {},
   "outputs": [],
   "source": [
    "common_tweets = past_years[8 < np.log(past_years[\"retweets\"])]\n",
    "common_tweets = common_tweets[np.log(common_tweets[\"retweets\"]) < 11]\n",
    "\n",
    "plt.plot(range(0, len(common_tweets[\"retweets\"])), sorted(np.log(common_tweets[\"retweets\"])))\n",
    "plt.title(\"Sorted # of Retweets\")\n",
    "plt.ylabel(\"# of Retweets (logarithmic scale)\")\n",
    "frame = plt.gca()\n",
    "frame.axes.get_xaxis().set_visible(False)\n",
    "plt.show()\n",
    "\n",
    "train = common_tweets.sample(frac=0.8,random_state=200)\n",
    "test = common_tweets.drop(train.index)\n",
    "y_train = train[\"retweets\"]\n",
    "y_test = test[\"retweets\"]"
   ]
  },
  {
   "cell_type": "code",
   "execution_count": null,
   "metadata": {},
   "outputs": [],
   "source": [
    "vect = CountVectorizer(min_df=5, stop_words=\"english\")\n",
    "X_train = vect.fit_transform(train[\"content\"])\n",
    "X_test = vect.transform(test[\"content\"])\n",
    "\n",
    "model = LinearRegression()\n",
    "model.fit(X_train, y_train)\n",
    "print(\"Score: {:.2f}\".format(model.score(X_test, y_test)))\n",
    "draw_predicted(model, X_test, y_test)"
   ]
  },
  {
   "cell_type": "code",
   "execution_count": null,
   "metadata": {},
   "outputs": [],
   "source": [
    "from sklearn.tree import DecisionTreeRegressor\n",
    "\n",
    "vect = CountVectorizer(min_df=5, stop_words=\"english\")\n",
    "X_train = vect.fit_transform(train[\"content\"])\n",
    "X_test = vect.transform(test[\"content\"])\n",
    "\n",
    "tree = DecisionTreeRegressor(max_depth=5, random_state=180)\n",
    "tree.fit(X_train, y_train)\n",
    "print(\"Score: {:.2f}\".format(tree.score(X_test, y_test)))\n",
    "draw_predicted(model, X_test, y_test)"
   ]
  },
  {
   "cell_type": "code",
   "execution_count": null,
   "metadata": {},
   "outputs": [],
   "source": [
    "from sklearn.ensemble import RandomForestRegressor\n",
    "\n",
    "vect = CountVectorizer(min_df=5, stop_words=\"english\")\n",
    "X_train = vect.fit_transform(train[\"content\"])\n",
    "X_test = vect.transform(test[\"content\"])\n",
    "\n",
    "tree = RandomForestRegressor(n_estimators=10, max_depth=100, random_state=180)\n",
    "tree.fit(X_train, y_train)\n",
    "print(\"Score: {:.2f}\".format(tree.score(X_test, y_test)))\n",
    "draw_predicted(model, X_test, y_test)"
   ]
  },
  {
   "cell_type": "markdown",
   "metadata": {},
   "source": [
    "Ok well, it is with a big disappointment that I tell you, we did not make it. Predicting number of retweets is too hard for us (me at least). I guess thre are no particular words that makes a tweet more \"retweetable\" than others (but the context and the sementics must help I imagine, that's not completly random).\n",
    "\n",
    "But I won't leave you without anything ! I still have made a WordCloud of the top words used by Trump."
   ]
  },
  {
   "cell_type": "code",
   "execution_count": null,
   "metadata": {},
   "outputs": [],
   "source": [
    "from wordcloud import WordCloud\n",
    "\n",
    "vect = CountVectorizer(min_df=100, stop_words=\"english\")\n",
    "vect.fit(past_years[\"content\"])\n",
    "wc = WordCloud(width=1920, height=1080).generate_from_frequencies(vect.vocabulary_)\n",
    "plt.imshow(wc, interpolation=\"bilinear\")\n",
    "plt.axis(\"off\")\n",
    "plt.show()"
   ]
  },
  {
   "cell_type": "markdown",
   "metadata": {},
   "source": [
    "Well that's all for me ! I hope you enjoyed the trip ! Have a good day, and take care of yourself :).\n",
    "\n",
    "PS : I think that if there is no 'new' in the WordCloud, that because 'new' must be a stopword for the CountVectorizer."
   ]
  }
 ],
 "metadata": {
  "kernelspec": {
   "display_name": "Python 3",
   "language": "python",
   "name": "python3"
  },
  "language_info": {
   "codemirror_mode": {
    "name": "ipython",
    "version": 3
   },
   "file_extension": ".py",
   "mimetype": "text/x-python",
   "name": "python",
   "nbconvert_exporter": "python",
   "pygments_lexer": "ipython3",
   "version": "3.7.5"
  }
 },
 "nbformat": 4,
 "nbformat_minor": 1
}
